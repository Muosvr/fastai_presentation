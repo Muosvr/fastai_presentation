{
  "nbformat": 4,
  "nbformat_minor": 0,
  "metadata": {
    "colab": {
      "name": "Fastai_v1_download.ipynb",
      "version": "0.3.2",
      "provenance": [],
      "collapsed_sections": [],
      "include_colab_link": true
    },
    "kernelspec": {
      "name": "python3",
      "display_name": "Python 3"
    },
    "accelerator": "GPU"
  },
  "cells": [
    {
      "cell_type": "markdown",
      "metadata": {
        "id": "view-in-github",
        "colab_type": "text"
      },
      "source": [
        "<a href=\"https://colab.research.google.com/github/Muosvr/fastai_presentation/blob/master/Fastai_v1_download.ipynb\" target=\"_parent\"><img src=\"https://colab.research.google.com/assets/colab-badge.svg\" alt=\"Open In Colab\"/></a>"
      ]
    },
    {
      "metadata": {
        "id": "lp72D9gE3_0_",
        "colab_type": "text"
      },
      "cell_type": "markdown",
      "source": [
        "# Image Classification Using Fast.ai v1_halloween edition"
      ]
    },
    {
      "metadata": {
        "id": "2NH3Ik-xoFli",
        "colab_type": "text"
      },
      "cell_type": "markdown",
      "source": [
        "Let's find out whether that house in the picture is haunted or not"
      ]
    },
    {
      "metadata": {
        "id": "i00RUWkX714q",
        "colab_type": "text"
      },
      "cell_type": "markdown",
      "source": [
        "# Using Google Colab"
      ]
    },
    {
      "metadata": {
        "id": "hpGCkZiZflLn",
        "colab_type": "text"
      },
      "cell_type": "markdown",
      "source": [
        "You can create a cell by pressing the code button on top, you can also add text cells as notes thus it’s called a notebook as you can see here. The shortcut for creating a new code cell is ctrl + m and then a for creating one above the current cell, or b for below.\n",
        "\n",
        " And to run a cell, you can either hover your mouse on the bracket at the beginning of each cell and click the triangle play button when it shows up, or you can use the shortcut shift + enter (or ctrl + enter if you don't want focus to jump to the next cell)\n"
      ]
    },
    {
      "metadata": {
        "id": "qJ1nHv7d75XV",
        "colab_type": "text"
      },
      "cell_type": "markdown",
      "source": [
        "# Getting Image data"
      ]
    },
    {
      "metadata": {
        "id": "1CSfkFfugRF3",
        "colab_type": "text"
      },
      "cell_type": "markdown",
      "source": [
        "Let's get some images! The javascript code below helps you scrape the urls from Google Image into a file. Just copy into browser counsole and run the code once you have searched for the images and it should generate a file for download"
      ]
    },
    {
      "metadata": {
        "id": "s2_YbpT15zO5",
        "colab_type": "text"
      },
      "cell_type": "markdown",
      "source": [
        "\n",
        "Javascript for scraping from Google Image in browser\n",
        "```\n",
        "urls = Array.from(document.querySelectorAll('.rg_di .rg_meta')).map(el=>JSON.parse(el.textContent).ou);\n",
        "window.open('data:text/csv;charset=utf-8,' + escape(urls.join('\\n')));\n",
        "```\n",
        "\n"
      ]
    },
    {
      "metadata": {
        "id": "9kK608zCZ7BX",
        "colab_type": "text"
      },
      "cell_type": "markdown",
      "source": [
        "We will first install Pytorch and than the fastai library. Fastai is built ontop of Pytorch which is itself a deep learning library that allows for  matrix computation on the GPU that is necessary to accelerate deep learning training"
      ]
    },
    {
      "metadata": {
        "id": "K56Sg7Xenq_E",
        "colab_type": "code",
        "colab": {}
      },
      "cell_type": "code",
      "source": [
        "!pip install torch_nightly -f https://download.pytorch.org/whl/nightly/cu92/torch_nightly.html"
      ],
      "execution_count": 0,
      "outputs": []
    },
    {
      "metadata": {
        "id": "u9H2KLnIonSg",
        "colab_type": "code",
        "colab": {}
      },
      "cell_type": "code",
      "source": [
        "!pip install fastai"
      ],
      "execution_count": 0,
      "outputs": []
    },
    {
      "metadata": {
        "id": "gG7SlOFBajru",
        "colab_type": "text"
      },
      "cell_type": "markdown",
      "source": [
        "Here we will import the necessary library for the notebook to use"
      ]
    },
    {
      "metadata": {
        "id": "rl4lSPQgozS5",
        "colab_type": "code",
        "colab": {}
      },
      "cell_type": "code",
      "source": [
        "from fastai import *\n",
        "from fastai.vision import *\n",
        "import os"
      ],
      "execution_count": 0,
      "outputs": []
    },
    {
      "metadata": {
        "id": "sqhrJ8vFauRK",
        "colab_type": "text"
      },
      "cell_type": "markdown",
      "source": [
        "The code below allows yoou to upload files from your computer to this notebook. It is copied from sample code snipets from Google colab. You can find it by searching \"upload files\" on the side bar"
      ]
    },
    {
      "metadata": {
        "id": "CG8Yyja6fACJ",
        "colab_type": "code",
        "colab": {}
      },
      "cell_type": "code",
      "source": [
        "from google.colab import files\n",
        "\n",
        "uploaded = files.upload()\n",
        "\n",
        "for fn in uploaded.keys():\n",
        "  print('User uploaded file \"{name}\" with length {length} bytes'.format(\n",
        "      name=fn, length=len(uploaded[fn])))"
      ],
      "execution_count": 0,
      "outputs": []
    },
    {
      "metadata": {
        "id": "fNgAjsk3bTxc",
        "colab_type": "text"
      },
      "cell_type": "markdown",
      "source": [
        "Google colab has some basic bash comman build in such as ls, mkdir, and rm. For more advanced commands you can access everything you can do in a terminal by prepending a \"!\" to the codes. That was how we installed all the packages ealier."
      ]
    },
    {
      "metadata": {
        "id": "eIRIPxEy1r0S",
        "colab_type": "code",
        "colab": {}
      },
      "cell_type": "code",
      "source": [
        "ls"
      ],
      "execution_count": 0,
      "outputs": []
    },
    {
      "metadata": {
        "id": "y6yC37POcD3m",
        "colab_type": "text"
      },
      "cell_type": "markdown",
      "source": [
        "Now let's create an array of classes and use that to create two folders and downloard about 200 images into each category"
      ]
    },
    {
      "metadata": {
        "id": "Eoi37KavixP2",
        "colab_type": "code",
        "colab": {}
      },
      "cell_type": "code",
      "source": [
        "classes = ['haunted_house', 'house']"
      ],
      "execution_count": 0,
      "outputs": []
    },
    {
      "metadata": {
        "id": "C6OjnBxylpqH",
        "colab_type": "code",
        "colab": {}
      },
      "cell_type": "code",
      "source": [
        "mkdir data\n",
        "path = Path('data') #creating a path object. Path is unqiue class to fastai, it makes it easier to manipulate file paths. "
      ],
      "execution_count": 0,
      "outputs": []
    },
    {
      "metadata": {
        "id": "bDnF6ggkeU_z",
        "colab_type": "text"
      },
      "cell_type": "markdown",
      "source": [
        "Whenever you see a function you don't understand, put ? in front of it to see a basic explaination and ?? to see a more thorough explaination as well as link to the source code. You can also do doc(something_you_don't_understand) to look at the documentation"
      ]
    },
    {
      "metadata": {
        "id": "SLgtfLpBePgI",
        "colab_type": "code",
        "colab": {
          "base_uri": "https://localhost:8080/",
          "height": 34
        },
        "outputId": "d2bafce6-5406-4ceb-ce4b-6fa86933e0c0"
      },
      "cell_type": "code",
      "source": [
        "??Path"
      ],
      "execution_count": 2,
      "outputs": [
        {
          "output_type": "stream",
          "text": [
            "Object `Path` not found.\n"
          ],
          "name": "stdout"
        }
      ]
    },
    {
      "metadata": {
        "id": "kp3eNT42jER5",
        "colab_type": "code",
        "colab": {}
      },
      "cell_type": "code",
      "source": [
        "#create folders and download images from urls\n",
        "for name in classes:\n",
        "  url_file = name + '.txt'\n",
        "  dest = 'data/' + name\n",
        "  if not os.path.exists(dest):\n",
        "    os.makedirs(dest)\n",
        "  download_images(url_file, dest, max_pics=200)"
      ],
      "execution_count": 0,
      "outputs": []
    },
    {
      "metadata": {
        "id": "klofXOR6d1GC",
        "colab_type": "text"
      },
      "cell_type": "markdown",
      "source": [
        "Note the \"!\" make turns the next three cells into bash commands"
      ]
    },
    {
      "metadata": {
        "id": "K9923xoV9WVp",
        "colab_type": "code",
        "colab": {}
      },
      "cell_type": "code",
      "source": [
        "!ls data"
      ],
      "execution_count": 0,
      "outputs": []
    },
    {
      "metadata": {
        "id": "vEIdE1UV--GL",
        "colab_type": "code",
        "colab": {}
      },
      "cell_type": "code",
      "source": [
        "!cd data/haunted_house; ls | wc -l #another bash command. This counts how many files there are in the directory\n",
        "#note the \";\" in above code separate out two lines of code so they can all be written in one line following the \"!\""
      ],
      "execution_count": 0,
      "outputs": []
    },
    {
      "metadata": {
        "id": "ry-CEnrw_BHt",
        "colab_type": "code",
        "colab": {}
      },
      "cell_type": "code",
      "source": [
        "!cd data/house; ls | wc -l #same as above, for a different directory"
      ],
      "execution_count": 0,
      "outputs": []
    },
    {
      "metadata": {
        "id": "hcG4bSkl1fIV",
        "colab_type": "code",
        "colab": {}
      },
      "cell_type": "code",
      "source": [
        "#download test set\n",
        "download_images('haunted_or_not_test.txt', 'test')"
      ],
      "execution_count": 0,
      "outputs": []
    },
    {
      "metadata": {
        "id": "d551sQ61hJh0",
        "colab_type": "text"
      },
      "cell_type": "markdown",
      "source": [
        "Next we need to varify each image to make sure they are not corrupted so they don't interrupt training"
      ]
    },
    {
      "metadata": {
        "id": "E30YAyjymq6r",
        "colab_type": "code",
        "colab": {}
      },
      "cell_type": "code",
      "source": [
        "#verify training image data\n",
        "for name in file_names:\n",
        "  class_name = name[:-4]\n",
        "  print(class_name)\n",
        "  verify_images(path/class_name, delete=True, max_workers=8)"
      ],
      "execution_count": 0,
      "outputs": []
    },
    {
      "metadata": {
        "id": "d-5XOTdWoVqy",
        "colab_type": "code",
        "colab": {}
      },
      "cell_type": "code",
      "source": [
        "#verify testing image data\n",
        "verify_images('test', delete=True)"
      ],
      "execution_count": 0,
      "outputs": []
    },
    {
      "metadata": {
        "id": "4icUHQOzo7D6",
        "colab_type": "text"
      },
      "cell_type": "markdown",
      "source": [
        "# View data"
      ]
    },
    {
      "metadata": {
        "id": "ExMcLe_Yhg5N",
        "colab_type": "text"
      },
      "cell_type": "markdown",
      "source": [
        "Now let's look at the images. The ImageDataBunch funccton below creates a data object for training. For now you just need to understand that you need to pass it the a path to the data, tell it where the training data is (In this case, it's \".\" for the root of the path). And the valid_pct tells the program what percentage of data is used to validate the results during training. This allows you to visualize how well the model is being trained in the process. For a small set of data this is usually set to 20%"
      ]
    },
    {
      "metadata": {
        "id": "prQ4ISkHo-YC",
        "colab_type": "code",
        "colab": {}
      },
      "cell_type": "code",
      "source": [
        "np.random.seed(42)\n",
        "data = ImageDataBunch.from_folder(path, train=\".\", valid_pct=0.2,\n",
        "                                  ds_tfms=get_transforms(), size=224, num_workers=0).normalize(imagenet_stats)"
      ],
      "execution_count": 0,
      "outputs": []
    },
    {
      "metadata": {
        "id": "7T5djebdpa4m",
        "colab_type": "code",
        "colab": {}
      },
      "cell_type": "code",
      "source": [
        "data.classes #the data object allows you to see its properties like the catorgories it contrain"
      ],
      "execution_count": 0,
      "outputs": []
    },
    {
      "metadata": {
        "id": "A_dmRCIOhLci",
        "colab_type": "code",
        "colab": {}
      },
      "cell_type": "code",
      "source": [
        "data.show_batch(rows=3, figsize=(7,8))"
      ],
      "execution_count": 0,
      "outputs": []
    },
    {
      "metadata": {
        "id": "FZgz-U0Op6od",
        "colab_type": "code",
        "colab": {}
      },
      "cell_type": "code",
      "source": [
        "#more properties from the data object: \n",
        "data.c, len(data.train_ds), len(data.valid_ds) #number of classes, length of training set, and length of validation set"
      ],
      "execution_count": 0,
      "outputs": []
    },
    {
      "metadata": {
        "id": "TevcsR0BjhQl",
        "colab_type": "text"
      },
      "cell_type": "markdown",
      "source": [
        "This is a good place to talk about batch size. It is the number of images that are passed on to the GPU to be processed at a time. Because the GPU has so many cores, it can process more than one image at a time, and in this case we give it 64 images at once so it will save a lot of training time. This number is dependent on the memory size of the GPU, normally you can try the even multiple of 32 such as 32, 64, 128, 256"
      ]
    },
    {
      "metadata": {
        "id": "5dLg-02KqGOT",
        "colab_type": "code",
        "colab": {}
      },
      "cell_type": "code",
      "source": [
        "bs = 64 #batch size"
      ],
      "execution_count": 0,
      "outputs": []
    },
    {
      "metadata": {
        "id": "lsaG3wvGvIJ7",
        "colab_type": "text"
      },
      "cell_type": "markdown",
      "source": [
        "# Training"
      ]
    },
    {
      "metadata": {
        "id": "w7kEusWBlF2-",
        "colab_type": "text"
      },
      "cell_type": "markdown",
      "source": [
        "Now onto the fun part! The two lines below creates a nerual net structure and trains it for 4 cyce. Each cycle contains one epoch, which means one pass of the entire training set. Here \"create_cnn\" creates a type of model called the convolutional neral net(CNN), which is great for image recognition. First we pass it the data object we created previously, then the archetecture for the model, which in this case is a resnet34, and finally the metrics denotes how we want to monitor the model during training. \n",
        "\n",
        "Here Resnet34 is a CNN architecture create by Microsoft. You can also try other architecture such as Resnet50 which is deeper more complex version. This is where the magic of fastai lies, as it lets you use the models that are developed by cutting edge research. If you are interested you can read the original paper [here](https://arxiv.org/pdf/1512.03385.pdf)."
      ]
    },
    {
      "metadata": {
        "id": "7IKGTPpWvNj_",
        "colab_type": "code",
        "colab": {}
      },
      "cell_type": "code",
      "source": [
        "learn = create_cnn(data, models.resnet34, metrics=error_rate)"
      ],
      "execution_count": 0,
      "outputs": []
    },
    {
      "metadata": {
        "id": "rPJ9lYaZvW5M",
        "colab_type": "code",
        "colab": {}
      },
      "cell_type": "code",
      "source": [
        "learn.fit_one_cycle(4)"
      ],
      "execution_count": 0,
      "outputs": []
    },
    {
      "metadata": {
        "id": "lI0YZgWqrWiP",
        "colab_type": "code",
        "colab": {}
      },
      "cell_type": "code",
      "source": [
        "learn.save('stage-1') #This will save our model to file for later use"
      ],
      "execution_count": 0,
      "outputs": []
    },
    {
      "metadata": {
        "id": "RUU02O50mFs7",
        "colab_type": "text"
      },
      "cell_type": "markdown",
      "source": [
        "#Examining the model"
      ]
    },
    {
      "metadata": {
        "id": "VCBsO8iuL6aT",
        "colab_type": "text"
      },
      "cell_type": "markdown",
      "source": [
        "Now that we have trained a model, let's see how it is doing. The first two code cells below creates an object for us to analyze the results than show us the most wrong predictions the model made during training, meaning that when model is confident but wrong. This help us understand where the model is failing so we can potentially improve it. As you can see, because we did not spend a lot of time cleaning the data we scrap from google, sometimes the model is wrong sinply because the image is really hard to tell or that it is labeled incorrectly in the first place."
      ]
    },
    {
      "metadata": {
        "id": "dhn8Wy3tvcJR",
        "colab_type": "code",
        "colab": {}
      },
      "cell_type": "code",
      "source": [
        "interp = ClassificationInterpretation.from_learner(learn) #create an object to analyze result from the learn object we created earlier"
      ],
      "execution_count": 0,
      "outputs": []
    },
    {
      "metadata": {
        "id": "twNZOaPKyORh",
        "colab_type": "code",
        "colab": {}
      },
      "cell_type": "code",
      "source": [
        "interp.plot_top_losses(9, figsize=(15,11)) #show photos that the nerual net is most wrong about"
      ],
      "execution_count": 0,
      "outputs": []
    },
    {
      "metadata": {
        "id": "X4anloj-2woO",
        "colab_type": "code",
        "colab": {}
      },
      "cell_type": "code",
      "source": [
        "data.classes"
      ],
      "execution_count": 0,
      "outputs": []
    },
    {
      "metadata": {
        "id": "b19drU3iMh8J",
        "colab_type": "text"
      },
      "cell_type": "markdown",
      "source": [
        "Now it's time to put out model to the test and see if it indeed can do its job recognizing a haunted house. The code below picks an image in random from the test set we create earlier and try to predict if it is a haunted house or not."
      ]
    },
    {
      "metadata": {
        "id": "MDriqTWA3nxB",
        "colab_type": "code",
        "colab": {}
      },
      "cell_type": "code",
      "source": [
        "import glob\n",
        "filenames = glob.glob('test/*') #We use glob, a python library, to help find the names of every image in the test folder and return them in an array"
      ],
      "execution_count": 0,
      "outputs": []
    },
    {
      "metadata": {
        "id": "DJS3IQwW3vN5",
        "colab_type": "code",
        "colab": {}
      },
      "cell_type": "code",
      "source": [
        "random_file = random.choice(filenames) #chose a random file from the filenames array\n",
        "img = open_image(random_file) #opens the image\n",
        "img"
      ],
      "execution_count": 0,
      "outputs": []
    },
    {
      "metadata": {
        "id": "ZjBhuHsr3HTw",
        "colab_type": "code",
        "colab": {}
      },
      "cell_type": "code",
      "source": [
        "pre_class, pred_idx, outputs = learn.predict(img) #make prediction.\n",
        "pre_class"
      ],
      "execution_count": 0,
      "outputs": []
    },
    {
      "metadata": {
        "id": "c3hLzeUM3lAK",
        "colab_type": "code",
        "colab": {}
      },
      "cell_type": "code",
      "source": [
        ""
      ],
      "execution_count": 0,
      "outputs": []
    }
  ]
}